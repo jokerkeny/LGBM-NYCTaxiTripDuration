{
 "cells": [
  {
   "cell_type": "code",
   "execution_count": 0,
   "metadata": {
    "colab": {},
    "colab_type": "code",
    "id": "hMjUCGLGhhEs"
   },
   "outputs": [],
   "source": [
    "# Install LGBM\n",
    "!pip install lightgbm"
   ]
  },
  {
   "cell_type": "code",
   "execution_count": 16,
   "metadata": {
    "colab": {
     "base_uri": "https://localhost:8080/",
     "height": 73
    },
    "colab_type": "code",
    "id": "n_Vgy6vDq0dc",
    "outputId": "d0cde519-4b63-4b8a-c1c8-7269fc1838a0"
   },
   "outputs": [
    {
     "name": "stdout",
     "output_type": "stream",
     "text": [
      "/usr/local/lib/python3.6/dist-packages/pip/_internal/commands/install.py:211: UserWarning: Disabling all use of wheels due to the use of --build-options / --global-options / --install-options.\n",
      "  cmdoptions.check_install_build_global(options)\n"
     ]
    }
   ],
   "source": [
    "!pip install lightgbm --install-option=--gpu --install-option=\"--opencl-include-dir=/usr/local/cuda/include/\" --install-option=\"--opencl-library=/usr/local/cuda/lib64/libOpenCL.so\""
   ]
  },
  {
   "cell_type": "code",
   "execution_count": 13,
   "metadata": {
    "colab": {
     "base_uri": "https://localhost:8080/",
     "height": 73
    },
    "colab_type": "code",
    "id": "Y4mkgVPCqKdo",
    "outputId": "6cef887b-c79c-4a1b-9f32-27aa26d08c14"
   },
   "outputs": [
    {
     "name": "stdout",
     "output_type": "stream",
     "text": [
      "/usr/local/lib/python3.6/dist-packages/pip/_internal/commands/install.py:211: UserWarning: Disabling all use of wheels due to the use of --build-options / --global-options / --install-options.\n",
      "  cmdoptions.check_install_build_global(options)\n"
     ]
    }
   ],
   "source": [
    "!pip install -qq lightgbm --install-option=--gpu"
   ]
  },
  {
   "cell_type": "code",
   "execution_count": 0,
   "metadata": {
    "colab": {},
    "colab_type": "code",
    "id": "jbHW8HUYjeAB"
   },
   "outputs": [],
   "source": [
    "# Or GPU version\n",
    "!apt-get -qq install --no-install-recommends nvidia-375\n",
    "!apt-get -qq install --no-install-recommends nvidia-opencl-icd-375 nvidia-opencl-dev opencl-headers\n",
    "!apt-get -qq install --no-install-recommends git cmake build-essential libboost-dev libboost-system-dev libboost-filesystem-dev    \n",
    "!pip install -qq lightgbm --install-option=--gpu"
   ]
  },
  {
   "cell_type": "code",
   "execution_count": 17,
   "metadata": {
    "colab": {
     "base_uri": "https://localhost:8080/",
     "height": 289
    },
    "colab_type": "code",
    "id": "0p7z_Py1l35P",
    "outputId": "742c5d66-b3d4-4398-83b3-3a6d848d9e9a"
   },
   "outputs": [
    {
     "name": "stdout",
     "output_type": "stream",
     "text": [
      "Go to this URL in a browser: https://accounts.google.com/o/oauth2/auth?client_id=947318989803-6bn6qk8qdgf4n4g3pfee6491hc0brc4i.apps.googleusercontent.com&redirect_uri=urn%3Aietf%3Awg%3Aoauth%3A2.0%3Aoob&scope=email%20https%3A%2F%2Fwww.googleapis.com%2Fauth%2Fdocs.test%20https%3A%2F%2Fwww.googleapis.com%2Fauth%2Fdrive%20https%3A%2F%2Fwww.googleapis.com%2Fauth%2Fdrive.photos.readonly%20https%3A%2F%2Fwww.googleapis.com%2Fauth%2Fpeopleapi.readonly&response_type=code\n",
      "\n",
      "Enter your authorization code:\n",
      "··········\n",
      "Mounted at /drive/\n",
      "Filesystem      Size  Used Avail Use% Mounted on\n",
      "overlay          40G   13G   25G  34% /\n",
      "tmpfs           6.4G     0  6.4G   0% /dev\n",
      "tmpfs           6.4G     0  6.4G   0% /sys/fs/cgroup\n",
      "tmpfs           6.4G  4.0K  6.4G   1% /var/colab\n",
      "/dev/sda1        46G   14G   32G  30% /etc/hosts\n",
      "shm             6.0G     0  6.0G   0% /dev/shm\n",
      "tmpfs           6.4G     0  6.4G   0% /sys/firmware\n",
      "drive            40G   14G   26G  36% /drive\n"
     ]
    }
   ],
   "source": [
    "# Running on Colab\n",
    "from google.colab import drive\n",
    "drive.mount('/drive/')\n",
    "#!df -h"
   ]
  },
  {
   "cell_type": "code",
   "execution_count": 0,
   "metadata": {
    "colab": {},
    "colab_type": "code",
    "id": "OYZxrFyVmHnr"
   },
   "outputs": [],
   "source": [
    "!cp submission_LGBM.csv \"/drive/My Drive/Study/ADA\""
   ]
  },
  {
   "cell_type": "code",
   "execution_count": 0,
   "metadata": {
    "colab": {},
    "colab_type": "code",
    "id": "vbN7OX5vh1h5"
   },
   "outputs": [],
   "source": [
    "!apt-get install git-lfs\n",
    "\n",
    "!git lfs clone https://github.com/jokerkeny/LGBM-NYCTaxiTripDuration.git\n",
    "!ls LGBM-NYCTaxiTripDuration/gdata -l"
   ]
  },
  {
   "cell_type": "code",
   "execution_count": 3,
   "metadata": {
    "colab": {
     "base_uri": "https://localhost:8080/",
     "height": 205
    },
    "colab_type": "code",
    "id": "rVFSFKLguDdk",
    "outputId": "f6996273-2091-40fb-d75a-ab1148ad5a86"
   },
   "outputs": [
    {
     "ename": "FileNotFoundError",
     "evalue": "ignored",
     "output_type": "error",
     "traceback": [
      "\u001b[0;31m---------------------------------------------------------------------------\u001b[0m",
      "\u001b[0;31mFileNotFoundError\u001b[0m                         Traceback (most recent call last)",
      "\u001b[0;32m<ipython-input-3-feb10f48393a>\u001b[0m in \u001b[0;36m<module>\u001b[0;34m()\u001b[0m\n\u001b[1;32m      1\u001b[0m \u001b[0;32mimport\u001b[0m \u001b[0mos\u001b[0m\u001b[0;34m\u001b[0m\u001b[0;34m\u001b[0m\u001b[0m\n\u001b[0;32m----> 2\u001b[0;31m \u001b[0mos\u001b[0m\u001b[0;34m.\u001b[0m\u001b[0mchdir\u001b[0m\u001b[0;34m(\u001b[0m\u001b[0;34m\"LGBM-NYCTaxiTripDuration/LGBM\"\u001b[0m\u001b[0;34m)\u001b[0m\u001b[0;34m\u001b[0m\u001b[0;34m\u001b[0m\u001b[0m\n\u001b[0m\u001b[1;32m      3\u001b[0m \u001b[0mget_ipython\u001b[0m\u001b[0;34m(\u001b[0m\u001b[0;34m)\u001b[0m\u001b[0;34m.\u001b[0m\u001b[0msystem\u001b[0m\u001b[0;34m(\u001b[0m\u001b[0;34m'ls'\u001b[0m\u001b[0;34m)\u001b[0m\u001b[0;34m\u001b[0m\u001b[0;34m\u001b[0m\u001b[0m\n",
      "\u001b[0;31mFileNotFoundError\u001b[0m: [Errno 2] No such file or directory: 'LGBM-NYCTaxiTripDuration/LGBM'"
     ]
    }
   ],
   "source": [
    "import os\n",
    "os.chdir(\"LGBM-NYCTaxiTripDuration/LGBM\")\n",
    "!ls"
   ]
  },
  {
   "cell_type": "code",
   "execution_count": 1,
   "metadata": {
    "colab": {},
    "colab_type": "code",
    "id": "BKwnyck1hhFJ"
   },
   "outputs": [],
   "source": [
    "# Grid Search Switch\n",
    "CV=True"
   ]
  },
  {
   "cell_type": "code",
   "execution_count": 2,
   "metadata": {
    "colab": {},
    "colab_type": "code",
    "id": "xOZH1zG0hhFT"
   },
   "outputs": [],
   "source": [
    "import lightgbm as lgb\n",
    "import pandas as pd\n",
    "from sklearn.metrics import mean_squared_error\n",
    "from sklearn.model_selection import GridSearchCV\n",
    "from sklearn.datasets import load_iris\n",
    "from sklearn.model_selection import train_test_split\n",
    "from sklearn.datasets import  make_classification\n",
    "import numpy as np\n",
    "import time\n",
    "import gc"
   ]
  },
  {
   "cell_type": "code",
   "execution_count": 20,
   "metadata": {
    "colab": {
     "base_uri": "https://localhost:8080/",
     "height": 53
    },
    "colab_type": "code",
    "id": "UTKsin6VhhFx",
    "outputId": "03732368-a5b9-4f6a-d00b-e94c32451035"
   },
   "outputs": [
    {
     "name": "stdout",
     "output_type": "stream",
     "text": [
      "Load data...\n"
     ]
    },
    {
     "data": {
      "text/plain": [
       "63"
      ]
     },
     "execution_count": 20,
     "metadata": {
      "tags": []
     },
     "output_type": "execute_result"
    }
   ],
   "source": [
    "# 加载数据\n",
    "print('Load data...')\n",
    "\n",
    "train_raw=pd.read_csv('../gdata/train.csv')\n",
    "\n",
    "# Reduce the cv dataset\n",
    "train_raw=train_raw.sample(frac=0.1)\n",
    "\n",
    "Train_Master=train_raw.drop('Unnamed: 0',axis=1)\n",
    "X_train=Train_Master.drop(['log_trip_duration'],axis=1)\n",
    "y_train=Train_Master['log_trip_duration']\n",
    "del train_raw\n",
    "del Train_Master\n",
    "\n",
    "X_train,X_test,y_train,y_test =train_test_split(X_train,y_train,test_size=0.2)\n",
    "\n",
    "# Example For iris \n",
    "# iris = load_iris()\n",
    "# data=iris.data\n",
    "# target = iris.target\n",
    "# X_train,X_test,y_train,y_test =train_test_split(data,target,test_size=0.2)\n",
    "\n",
    "# df_train = pd.read_csv('../regression/regression.train', header=None, sep='\\t')\n",
    "# df_test = pd.read_csv('../regression/regression.test', header=None, sep='\\t')\n",
    "# y_train = df_train[0].values\n",
    "# y_test = df_test[0].values\n",
    "# X_train = df_train.drop(0, axis=1).values\n",
    "# X_test = df_test.drop(0, axis=1).values\n",
    "\n",
    "gc.collect()"
   ]
  },
  {
   "cell_type": "code",
   "execution_count": 0,
   "metadata": {
    "colab": {},
    "colab_type": "code",
    "id": "wJZsXPNIhhF9"
   },
   "outputs": [],
   "source": [
    "# 网格搜索，参数优化 1\n",
    "if(CV):\n",
    "\n",
    "    estimator = lgb.LGBMRegressor()\n",
    "\n",
    "    param_grid1 = {\n",
    "        'learning_rate': [0.09,0.08],\n",
    "        'n_estimators': [120,130,140],\n",
    "        'num_leaves':[130]\n",
    "    }\n",
    "\n",
    "    gbm = GridSearchCV(estimator, param_grid1)\n",
    "\n",
    "    gbm.fit(X_train, y_train)\n",
    "\n",
    "    print('Best parameters found by grid search are:', gbm.best_params_)"
   ]
  },
  {
   "cell_type": "code",
   "execution_count": 26,
   "metadata": {
    "colab": {
     "base_uri": "https://localhost:8080/",
     "height": 35
    },
    "colab_type": "code",
    "id": "TE6_izpyxXz_",
    "outputId": "17eaf10b-ff55-4b6f-c7ab-b8934131d24b"
   },
   "outputs": [
    {
     "name": "stdout",
     "output_type": "stream",
     "text": [
      "Best parameters found by grid search are: {'learning_rate': 0.07, 'n_estimators': 180, 'num_leaves': 130}\n"
     ]
    }
   ],
   "source": [
    "# 网格搜索，参数优化 2\n",
    "if(CV):\n",
    "\n",
    "    estimator = lgb.LGBMRegressor()\n",
    "    \n",
    "    param_grid2 = {\n",
    "        'learning_rate': [0.08,0.07],\n",
    "        'n_estimators': [150,180],\n",
    "        'num_leaves':[130]\n",
    "    }\n",
    "\n",
    "    gbm = GridSearchCV(estimator, param_grid2)\n",
    "\n",
    "    gbm.fit(X_train, y_train)\n",
    "\n",
    "    print('Best parameters found by grid search are:', gbm.best_params_)"
   ]
  },
  {
   "cell_type": "markdown",
   "metadata": {
    "colab_type": "text",
    "id": "_3PRQwhl03TK"
   },
   "source": [
    "## Test on training data"
   ]
  },
  {
   "cell_type": "code",
   "execution_count": 0,
   "metadata": {
    "colab": {},
    "colab_type": "code",
    "id": "xrRks8JvhhGD"
   },
   "outputs": [],
   "source": [
    "gc.collect()\n",
    "t0=time.time()\n",
    "print('Start training...')\n",
    "# 创建模型，训练模型\n",
    "gbm_bst = lgb.LGBMRegressor(objective='regression',num_leaves=31,learning_rate=0.1,n_estimators=40)\n",
    "gbm_bst.fit(X_train, y_train,eval_set=[(X_test, y_test)],eval_metric='l1',early_stopping_rounds=5)\n",
    "\n",
    "print('Start predicting...')\n",
    "# 测试机预测\n",
    "y_pred = gbm_bst.predict(X_test, num_iteration=gbm_bst.best_iteration_)\n",
    "# 模型评估\n",
    "print('The rmse of prediction is:', mean_squared_error(y_test, y_pred) ** 0.5)\n",
    "\n",
    "# feature importances\n",
    "print('Feature importances:', list(gbm_bst.feature_importances_))\n",
    "t1=time.time()\n",
    "print('elapse time: {}'.format(t1-t0))"
   ]
  },
  {
   "cell_type": "markdown",
   "metadata": {
    "colab_type": "text",
    "id": "5NzMfvAZrrJf"
   },
   "source": [
    "## Final Train & Test for Kaggle Test"
   ]
  },
  {
   "cell_type": "code",
   "execution_count": 3,
   "metadata": {
    "colab": {},
    "colab_type": "code",
    "id": "uaMySy2HhhGP"
   },
   "outputs": [
    {
     "name": "stdout",
     "output_type": "stream",
     "text": [
      "[1]\tvalid_0's l1: 0.556864\tvalid_0's l2: 0.51667\n",
      "Training until validation scores don't improve for 5 rounds.\n",
      "[2]\tvalid_0's l1: 0.524081\tvalid_0's l2: 0.459015\n",
      "[3]\tvalid_0's l1: 0.495095\tvalid_0's l2: 0.411046\n",
      "[4]\tvalid_0's l1: 0.469551\tvalid_0's l2: 0.371482\n",
      "[5]\tvalid_0's l1: 0.447086\tvalid_0's l2: 0.33834\n",
      "[6]\tvalid_0's l1: 0.427299\tvalid_0's l2: 0.310732\n",
      "[7]\tvalid_0's l1: 0.410118\tvalid_0's l2: 0.287903\n",
      "[8]\tvalid_0's l1: 0.395117\tvalid_0's l2: 0.268819\n",
      "[9]\tvalid_0's l1: 0.382132\tvalid_0's l2: 0.252869\n",
      "[10]\tvalid_0's l1: 0.370752\tvalid_0's l2: 0.239358\n",
      "[11]\tvalid_0's l1: 0.361095\tvalid_0's l2: 0.228155\n",
      "[12]\tvalid_0's l1: 0.352688\tvalid_0's l2: 0.218799\n",
      "[13]\tvalid_0's l1: 0.345432\tvalid_0's l2: 0.210984\n",
      "[14]\tvalid_0's l1: 0.339059\tvalid_0's l2: 0.204229\n",
      "[15]\tvalid_0's l1: 0.333595\tvalid_0's l2: 0.198557\n",
      "[16]\tvalid_0's l1: 0.328952\tvalid_0's l2: 0.193883\n",
      "[17]\tvalid_0's l1: 0.324818\tvalid_0's l2: 0.189772\n",
      "[18]\tvalid_0's l1: 0.321435\tvalid_0's l2: 0.186423\n",
      "[19]\tvalid_0's l1: 0.318308\tvalid_0's l2: 0.183386\n",
      "[20]\tvalid_0's l1: 0.315606\tvalid_0's l2: 0.180702\n",
      "[21]\tvalid_0's l1: 0.313207\tvalid_0's l2: 0.178453\n",
      "[22]\tvalid_0's l1: 0.31108\tvalid_0's l2: 0.176448\n",
      "[23]\tvalid_0's l1: 0.30926\tvalid_0's l2: 0.174815\n",
      "[24]\tvalid_0's l1: 0.307603\tvalid_0's l2: 0.173303\n",
      "[25]\tvalid_0's l1: 0.306237\tvalid_0's l2: 0.171972\n",
      "[26]\tvalid_0's l1: 0.305074\tvalid_0's l2: 0.170814\n",
      "[27]\tvalid_0's l1: 0.304016\tvalid_0's l2: 0.169825\n",
      "[28]\tvalid_0's l1: 0.302982\tvalid_0's l2: 0.168896\n",
      "[29]\tvalid_0's l1: 0.302159\tvalid_0's l2: 0.168126\n",
      "[30]\tvalid_0's l1: 0.301292\tvalid_0's l2: 0.167298\n",
      "[31]\tvalid_0's l1: 0.30047\tvalid_0's l2: 0.166584\n",
      "[32]\tvalid_0's l1: 0.299765\tvalid_0's l2: 0.165887\n",
      "[33]\tvalid_0's l1: 0.299119\tvalid_0's l2: 0.165271\n",
      "[34]\tvalid_0's l1: 0.298519\tvalid_0's l2: 0.164761\n",
      "[35]\tvalid_0's l1: 0.297886\tvalid_0's l2: 0.16424\n",
      "[36]\tvalid_0's l1: 0.297366\tvalid_0's l2: 0.163845\n",
      "[37]\tvalid_0's l1: 0.296819\tvalid_0's l2: 0.163343\n",
      "[38]\tvalid_0's l1: 0.296366\tvalid_0's l2: 0.162998\n",
      "[39]\tvalid_0's l1: 0.295981\tvalid_0's l2: 0.162636\n",
      "[40]\tvalid_0's l1: 0.295527\tvalid_0's l2: 0.162285\n",
      "[41]\tvalid_0's l1: 0.295084\tvalid_0's l2: 0.16195\n",
      "[42]\tvalid_0's l1: 0.294761\tvalid_0's l2: 0.161777\n",
      "[43]\tvalid_0's l1: 0.294408\tvalid_0's l2: 0.161518\n",
      "[44]\tvalid_0's l1: 0.294171\tvalid_0's l2: 0.161293\n",
      "[45]\tvalid_0's l1: 0.293984\tvalid_0's l2: 0.161231\n",
      "[46]\tvalid_0's l1: 0.293681\tvalid_0's l2: 0.160962\n",
      "[47]\tvalid_0's l1: 0.293397\tvalid_0's l2: 0.160811\n",
      "[48]\tvalid_0's l1: 0.293158\tvalid_0's l2: 0.160618\n",
      "[49]\tvalid_0's l1: 0.292957\tvalid_0's l2: 0.160522\n",
      "[50]\tvalid_0's l1: 0.292706\tvalid_0's l2: 0.160309\n",
      "[51]\tvalid_0's l1: 0.292479\tvalid_0's l2: 0.160223\n",
      "[52]\tvalid_0's l1: 0.2924\tvalid_0's l2: 0.160195\n",
      "[53]\tvalid_0's l1: 0.292024\tvalid_0's l2: 0.159862\n",
      "[54]\tvalid_0's l1: 0.291838\tvalid_0's l2: 0.159734\n",
      "[55]\tvalid_0's l1: 0.291724\tvalid_0's l2: 0.159636\n",
      "[56]\tvalid_0's l1: 0.291345\tvalid_0's l2: 0.159328\n",
      "[57]\tvalid_0's l1: 0.291252\tvalid_0's l2: 0.159322\n",
      "[58]\tvalid_0's l1: 0.291009\tvalid_0's l2: 0.159113\n",
      "[59]\tvalid_0's l1: 0.290818\tvalid_0's l2: 0.158974\n",
      "[60]\tvalid_0's l1: 0.290607\tvalid_0's l2: 0.158753\n",
      "[61]\tvalid_0's l1: 0.290584\tvalid_0's l2: 0.158772\n",
      "[62]\tvalid_0's l1: 0.290372\tvalid_0's l2: 0.15866\n",
      "[63]\tvalid_0's l1: 0.290318\tvalid_0's l2: 0.158676\n",
      "[64]\tvalid_0's l1: 0.290124\tvalid_0's l2: 0.158502\n",
      "[65]\tvalid_0's l1: 0.289939\tvalid_0's l2: 0.158307\n",
      "[66]\tvalid_0's l1: 0.289746\tvalid_0's l2: 0.158114\n",
      "[67]\tvalid_0's l1: 0.289648\tvalid_0's l2: 0.158082\n",
      "[68]\tvalid_0's l1: 0.289614\tvalid_0's l2: 0.158047\n",
      "[69]\tvalid_0's l1: 0.289491\tvalid_0's l2: 0.157975\n",
      "[70]\tvalid_0's l1: 0.289306\tvalid_0's l2: 0.157862\n",
      "[71]\tvalid_0's l1: 0.289277\tvalid_0's l2: 0.157874\n",
      "[72]\tvalid_0's l1: 0.289153\tvalid_0's l2: 0.157797\n",
      "[73]\tvalid_0's l1: 0.289076\tvalid_0's l2: 0.157726\n",
      "[74]\tvalid_0's l1: 0.288959\tvalid_0's l2: 0.157644\n",
      "[75]\tvalid_0's l1: 0.288936\tvalid_0's l2: 0.157628\n",
      "[76]\tvalid_0's l1: 0.288841\tvalid_0's l2: 0.15756\n",
      "[77]\tvalid_0's l1: 0.288762\tvalid_0's l2: 0.157588\n",
      "[78]\tvalid_0's l1: 0.28869\tvalid_0's l2: 0.157545\n",
      "[79]\tvalid_0's l1: 0.288608\tvalid_0's l2: 0.157474\n",
      "[80]\tvalid_0's l1: 0.288484\tvalid_0's l2: 0.157391\n",
      "[81]\tvalid_0's l1: 0.2884\tvalid_0's l2: 0.157335\n",
      "[82]\tvalid_0's l1: 0.288333\tvalid_0's l2: 0.157287\n",
      "[83]\tvalid_0's l1: 0.288168\tvalid_0's l2: 0.157169\n",
      "[84]\tvalid_0's l1: 0.288166\tvalid_0's l2: 0.157168\n",
      "[85]\tvalid_0's l1: 0.288132\tvalid_0's l2: 0.157145\n",
      "[86]\tvalid_0's l1: 0.288102\tvalid_0's l2: 0.15712\n",
      "[87]\tvalid_0's l1: 0.288038\tvalid_0's l2: 0.157039\n",
      "[88]\tvalid_0's l1: 0.288066\tvalid_0's l2: 0.157072\n",
      "[89]\tvalid_0's l1: 0.287975\tvalid_0's l2: 0.157004\n",
      "[90]\tvalid_0's l1: 0.287965\tvalid_0's l2: 0.156989\n",
      "[91]\tvalid_0's l1: 0.287882\tvalid_0's l2: 0.156968\n",
      "[92]\tvalid_0's l1: 0.287852\tvalid_0's l2: 0.15696\n",
      "[93]\tvalid_0's l1: 0.287823\tvalid_0's l2: 0.156944\n",
      "[94]\tvalid_0's l1: 0.287729\tvalid_0's l2: 0.156871\n",
      "[95]\tvalid_0's l1: 0.287669\tvalid_0's l2: 0.15681\n",
      "[96]\tvalid_0's l1: 0.287599\tvalid_0's l2: 0.156759\n",
      "[97]\tvalid_0's l1: 0.287602\tvalid_0's l2: 0.156794\n",
      "[98]\tvalid_0's l1: 0.287602\tvalid_0's l2: 0.156785\n",
      "[99]\tvalid_0's l1: 0.287556\tvalid_0's l2: 0.156756\n",
      "[100]\tvalid_0's l1: 0.287519\tvalid_0's l2: 0.15672\n",
      "[101]\tvalid_0's l1: 0.287474\tvalid_0's l2: 0.156684\n",
      "[102]\tvalid_0's l1: 0.287498\tvalid_0's l2: 0.156705\n",
      "[103]\tvalid_0's l1: 0.287475\tvalid_0's l2: 0.156699\n",
      "[104]\tvalid_0's l1: 0.287472\tvalid_0's l2: 0.156698\n",
      "[105]\tvalid_0's l1: 0.287492\tvalid_0's l2: 0.156767\n",
      "[106]\tvalid_0's l1: 0.287441\tvalid_0's l2: 0.156719\n",
      "Early stopping, best iteration is:\n",
      "[101]\tvalid_0's l1: 0.287474\tvalid_0's l2: 0.156684\n",
      "Start predicting...\n",
      "The rmse of prediction is: 0.3958338232186932\n",
      "Feature importances: [929, 616, 1856, 740, 616, 740, 910, 398, 128, 1, 0, 74, 29, 8, 3, 15, 8, 2, 0, 1, 20, 9, 6, 43, 0, 2, 12, 13, 69, 8, 12, 8, 22, 37, 16, 3, 0, 55, 13, 0, 0, 54, 38, 1, 8, 29, 16, 21, 14, 24, 4, 23, 10, 2, 22, 0, 21, 9, 0, 14, 0, 22, 1, 17, 50, 6, 1, 22, 12, 25, 12, 0, 1, 25, 0, 0, 0, 5, 9, 10, 22, 54, 39, 18, 17, 22, 6, 18, 2, 18, 18, 22, 10, 13, 0, 14, 4, 23, 0, 18, 9, 0, 1, 8, 17, 33, 39, 4, 40, 1, 1, 0, 1, 0, 0, 55, 6, 2, 0, 0, 26, 25, 12, 17, 2, 4, 34, 25, 56, 25, 22, 4, 40, 61, 33, 2, 5, 62, 20, 7, 0, 142, 37, 3, 22, 51, 69, 8, 25, 13, 1, 16, 0, 12, 31, 0, 7, 10, 6, 6, 1, 21, 12, 26, 69, 24, 2, 37, 31, 6, 4, 15, 3, 31, 5, 1, 6, 36, 21, 22, 3, 118, 81, 36, 6, 58, 8, 10, 17, 5, 10, 26, 34, 10, 0, 19, 13, 14, 0, 37, 4, 2, 8, 18, 11, 64, 13, 8, 112, 10, 5, 0, 2, 0, 2, 91, 18, 6, 0, 131, 58, 48, 53, 96, 90, 42, 13, 9, 3, 26, 10, 13, 23, 10, 6, 15, 11, 10, 34, 23, 18, 10, 27, 19, 8, 26, 5, 13, 23, 46, 42, 26, 44, 18, 57, 10, 18, 7, 6, 8, 5, 5, 9, 11, 20, 12, 22, 24, 34, 11, 25, 12, 12, 23, 25, 29, 29, 29, 36, 18, 120, 56, 68, 70, 67, 143, 261]\n",
      "elapse time: 7.826629161834717\n"
     ]
    }
   ],
   "source": [
    "gc.collect()\n",
    "train_raw=pd.read_csv('../gdata/train.csv')\n",
    "\n",
    "# Reduce dataset\n",
    "train_raw=train_raw.sample(frac=0.1)\n",
    "\n",
    "Train_Master=train_raw.drop('Unnamed: 0',axis=1)\n",
    "\n",
    "X_train=Train_Master.drop(['log_trip_duration'],axis=1)\n",
    "y_train=Train_Master['log_trip_duration']\n",
    "del train_raw\n",
    "del Train_Master\n",
    "\n",
    "X_train,X_test,y_train,y_test =train_test_split(X_train,y_train,test_size=0.2)\n",
    "\n",
    "\n",
    "\n",
    "# Final training\n",
    "t0=time.time()\n",
    "gbm_final = lgb.LGBMRegressor(objective='regression',num_leaves=130,learning_rate=0.09,n_estimators=130)\n",
    "gbm_final.fit(X_train, y_train,eval_set=[(X_test, y_test)],eval_metric='l1',early_stopping_rounds=5)\n",
    "\n",
    "print('Start predicting...')\n",
    "# 测试机预测\n",
    "y_pred = gbm_final.predict(X_test, num_iteration=gbm_final.best_iteration_)\n",
    "# 模型评估\n",
    "print('The rmse of prediction is:', mean_squared_error(y_test, y_pred) ** 0.5)\n",
    "\n",
    "# feature importances\n",
    "print('Feature importances:', list(gbm_final.feature_importances_))\n",
    "t1=time.time()\n",
    "print('elapse time: {}'.format(t1-t0))"
   ]
  },
  {
   "cell_type": "code",
   "execution_count": 4,
   "metadata": {
    "colab": {},
    "colab_type": "code",
    "id": "4LbuwyiDhhGe"
   },
   "outputs": [],
   "source": [
    "# Save Model\n",
    "import pickle\n",
    "pickle.dump(gbm_final,open('LGBM_Model.dat','wb'))"
   ]
  },
  {
   "cell_type": "code",
   "execution_count": 5,
   "metadata": {
    "colab": {},
    "colab_type": "code",
    "id": "hrOii2GrhhGr"
   },
   "outputs": [],
   "source": [
    "# read test data\n",
    "test_X=pd.read_csv('../gdata/test.csv')\n",
    "test_X=test_X.drop('Unnamed: 0',axis=1)\n",
    "# print(test_X.head())"
   ]
  },
  {
   "cell_type": "code",
   "execution_count": 6,
   "metadata": {
    "colab": {},
    "colab_type": "code",
    "id": "TAR91H6MhhG7"
   },
   "outputs": [],
   "source": [
    "prediction=gbm_final.predict(test_X)\n",
    "# recover log transformation log(y+1)\n",
    "pred = np.exp(prediction) - 1"
   ]
  },
  {
   "cell_type": "code",
   "execution_count": 7,
   "metadata": {
    "colab": {},
    "colab_type": "code",
    "id": "P51IjIgChhHI"
   },
   "outputs": [],
   "source": [
    "# add id\n",
    "original_test=pd.read_csv('../new-york-city-taxi-with-osrm/test.csv')\n",
    "Test_id=original_test['id']"
   ]
  },
  {
   "cell_type": "code",
   "execution_count": 8,
   "metadata": {
    "colab": {},
    "colab_type": "code",
    "id": "Fo_YRNBLhhHV"
   },
   "outputs": [],
   "source": [
    "submission = pd.concat([Test_id, pd.DataFrame(pred)], axis=1)\n",
    "submission.columns = ['id','trip_duration']\n",
    "submission['trip_duration'] = submission.apply(lambda x : 1 if (x['trip_duration'] <= 0) else x['trip_duration'], axis = 1)\n",
    "submission.to_csv(\"submission_LGBM.csv\", index=False)"
   ]
  },
  {
   "cell_type": "markdown",
   "metadata": {
    "colab_type": "text",
    "id": "T5uVnOp9hhHn"
   },
   "source": [
    "## Result on Kaggle\n",
    "### First\n",
    "Dataset:\n",
    "training fraction: 0.1 * 0.8\n",
    "\n",
    "Hyperparameter:\n",
    "num_leaves=31\n",
    "learning_rate=0.1\n",
    "n_estimators=40\n",
    "\n",
    "\n",
    "Name\n",
    "Submitted\n",
    "Wait time\n",
    "Execution time\n",
    "Score\n",
    "\n",
    "submission_LGBM.csv\n",
    "7 minutes ago\n",
    "1 seconds\n",
    "4 seconds\n",
    "0.45924\n",
    "\n",
    "### Second\n",
    "Dataset:\n",
    "Fraction: 0.5 * 0.8\n",
    "\n",
    "Score: 0.46887\n",
    "\n",
    "### Third\n",
    "Dataset:\n",
    "Fraction: 0.1 * 0.8\n",
    "Score: 0.47533"
   ]
  },
  {
   "cell_type": "code",
   "execution_count": 0,
   "metadata": {
    "colab": {},
    "colab_type": "code",
    "id": "s4hnwxRphhHo"
   },
   "outputs": [],
   "source": []
  }
 ],
 "metadata": {
  "colab": {
   "collapsed_sections": [],
   "name": "Copy of lightgbm.ipynb",
   "provenance": [],
   "version": "0.3.2"
  },
  "kernelspec": {
   "display_name": "Python 3",
   "language": "python",
   "name": "python3"
  },
  "language_info": {
   "codemirror_mode": {
    "name": "ipython",
    "version": 3
   },
   "file_extension": ".py",
   "mimetype": "text/x-python",
   "name": "python",
   "nbconvert_exporter": "python",
   "pygments_lexer": "ipython3",
   "version": "3.6.4"
  }
 },
 "nbformat": 4,
 "nbformat_minor": 1
}
